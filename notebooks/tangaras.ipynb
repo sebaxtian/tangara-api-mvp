{
 "cells": [
  {
   "cell_type": "code",
   "execution_count": 1,
   "metadata": {},
   "outputs": [
    {
     "name": "stdout",
     "output_type": "stream",
     "text": [
      "importing Jupyter notebook from utils.ipynb\n"
     ]
    }
   ],
   "source": [
    "import import_ipynb\n",
    "from utils import to_timestamp, query_tangaras, request_influxdb\n",
    "from datetime import datetime, timezone, timedelta\n",
    "import pandas as pd\n",
    "from io import StringIO\n",
    "import geohash2\n"
   ]
  },
  {
   "attachments": {},
   "cell_type": "markdown",
   "metadata": {},
   "source": [
    "# Tangara Sensors"
   ]
  },
  {
   "cell_type": "code",
   "execution_count": 2,
   "metadata": {},
   "outputs": [
    {
     "name": "stdout",
     "output_type": "stream",
     "text": [
      "start_isoformat: 2023-05-28T21:37:45.488054-00:05\n",
      "end_isoformat: 2023-05-28T17:42:45.488386-05:00\n",
      "start_timestamp: 1679029200000\n",
      "end_timestamp: 1680584400000\n"
     ]
    }
   ],
   "source": [
    "# Start Date Time ISO 8601 Format, TZ='America/Bogota' -05:00\n",
    "start_isoformat = (datetime.now(tz=timezone(offset=-timedelta(minutes=5), name='America/Bogota')) - timedelta(hours=1)).isoformat()\n",
    "end_isoformat = datetime.now(tz=timezone(offset=-timedelta(hours=5), name='America/Bogota')).isoformat()\n",
    "\n",
    "print('start_isoformat:', start_isoformat)\n",
    "print('end_isoformat:', end_isoformat)\n",
    "\n",
    "start_timestamp = to_timestamp('2023-03-17T00:00:00-05:00')\n",
    "end_timestamp = to_timestamp('2023-04-04T00:00:00-05:00')\n",
    "\n",
    "print('start_timestamp:', start_timestamp)\n",
    "print('end_timestamp:', end_timestamp)"
   ]
  },
  {
   "cell_type": "code",
   "execution_count": 3,
   "metadata": {},
   "outputs": [
    {
     "name": "stdout",
     "output_type": "stream",
     "text": [
      "SELECT DISTINCT(geo) AS \"geohash\" FROM \"fixed_stations_01\" WHERE (\"geo3\" = 'd29') AND time >= 1679029200000ms AND time <= 1680584400000ms GROUP BY \"name\";\n"
     ]
    }
   ],
   "source": [
    "# Query Tangaras\n",
    "query = query_tangaras(start_timestamp, end_timestamp)\n",
    "print(query)"
   ]
  },
  {
   "cell_type": "code",
   "execution_count": 4,
   "metadata": {},
   "outputs": [],
   "source": [
    "# Data Frame Tangaras\n",
    "def df_tangaras(start_timestamp, end_timestamp):\n",
    "    # Query Tangaras\n",
    "    query = query_tangaras(start_timestamp, end_timestamp)\n",
    "    # InfluxDB API REST Request\n",
    "    influxdb_request = request_influxdb(query)\n",
    "    #print(influxdb_request)\n",
    "    #print(influxdb_request.text)\n",
    "\n",
    "    # Data Frame Tangaras\n",
    "    df_tangaras = pd.read_csv(StringIO(influxdb_request.text), sep=\",\")\n",
    "\n",
    "    # Remove/Add Columns\n",
    "    df_tangaras = df_tangaras[['tags', 'geohash']]\n",
    "    df_tangaras['MAC'] = df_tangaras['tags'].apply(lambda x: x.split('=')[1])\n",
    "    df_tangaras['GEOLOCATION'] = df_tangaras['geohash'].apply(lambda x: \" \".join(str(value) for value in list(geohash2.decode_exactly(x)[0:2])))\n",
    "    df_tangaras['LATITUDE'] = df_tangaras['GEOLOCATION'].apply(lambda x: x.split(' ')[0])\n",
    "    df_tangaras['LONGITUDE'] = df_tangaras['GEOLOCATION'].apply(lambda x: x.split(' ')[1])\n",
    "    df_tangaras['tags'] = df_tangaras['tags'].apply(lambda x: f\"TANGARA_{x[-4:]}\")\n",
    "    df_tangaras.rename(columns={'tags': 'CODE', 'geohash': 'GEOHASH'}, inplace=True)\n",
    "\n",
    "    # Set Index\n",
    "    #df_tangaras.set_index('ID', inplace=True)\n",
    "    df_tangaras = df_tangaras[['MAC', 'GEOHASH', 'CODE', 'LATITUDE', 'LONGITUDE']]\n",
    "    df_tangaras[['id_barrio', 'id_sector', 'id_areaexp', 'id_areapro']] = None\n",
    "    df_tangaras[['online']] = 0\n",
    "    df_tangaras[['created', 'updated']] = end_isoformat\n",
    "    \n",
    "    return df_tangaras"
   ]
  },
  {
   "cell_type": "code",
   "execution_count": 5,
   "metadata": {},
   "outputs": [
    {
     "name": "stdout",
     "output_type": "stream",
     "text": [
      "(25, 12)\n"
     ]
    },
    {
     "data": {
      "text/html": [
       "<div>\n",
       "<style scoped>\n",
       "    .dataframe tbody tr th:only-of-type {\n",
       "        vertical-align: middle;\n",
       "    }\n",
       "\n",
       "    .dataframe tbody tr th {\n",
       "        vertical-align: top;\n",
       "    }\n",
       "\n",
       "    .dataframe thead th {\n",
       "        text-align: right;\n",
       "    }\n",
       "</style>\n",
       "<table border=\"1\" class=\"dataframe\">\n",
       "  <thead>\n",
       "    <tr style=\"text-align: right;\">\n",
       "      <th></th>\n",
       "      <th>MAC</th>\n",
       "      <th>GEOHASH</th>\n",
       "      <th>CODE</th>\n",
       "      <th>LATITUDE</th>\n",
       "      <th>LONGITUDE</th>\n",
       "      <th>id_barrio</th>\n",
       "      <th>id_sector</th>\n",
       "      <th>id_areaexp</th>\n",
       "      <th>id_areapro</th>\n",
       "      <th>online</th>\n",
       "      <th>created</th>\n",
       "      <th>updated</th>\n",
       "    </tr>\n",
       "  </thead>\n",
       "  <tbody>\n",
       "    <tr>\n",
       "      <th>1</th>\n",
       "      <td>D29ESP32DE02BBA</td>\n",
       "      <td>d29e6b4</td>\n",
       "      <td>TANGARA_2BBA</td>\n",
       "      <td>3.3844757080078125</td>\n",
       "      <td>-76.51634216308594</td>\n",
       "      <td>None</td>\n",
       "      <td>None</td>\n",
       "      <td>None</td>\n",
       "      <td>None</td>\n",
       "      <td>0</td>\n",
       "      <td>2023-05-28T17:42:45.488386-05:00</td>\n",
       "      <td>2023-05-28T17:42:45.488386-05:00</td>\n",
       "    </tr>\n",
       "    <tr>\n",
       "      <th>2</th>\n",
       "      <td>D29ESP32DE0DD66</td>\n",
       "      <td>d29dbmw</td>\n",
       "      <td>TANGARA_DD66</td>\n",
       "      <td>3.3267974853515625</td>\n",
       "      <td>-76.62071228027344</td>\n",
       "      <td>None</td>\n",
       "      <td>None</td>\n",
       "      <td>None</td>\n",
       "      <td>None</td>\n",
       "      <td>0</td>\n",
       "      <td>2023-05-28T17:42:45.488386-05:00</td>\n",
       "      <td>2023-05-28T17:42:45.488386-05:00</td>\n",
       "    </tr>\n",
       "    <tr>\n",
       "      <th>3</th>\n",
       "      <td>D29ESP32DE0E752</td>\n",
       "      <td>d29dbmw</td>\n",
       "      <td>TANGARA_E752</td>\n",
       "      <td>3.3267974853515625</td>\n",
       "      <td>-76.62071228027344</td>\n",
       "      <td>None</td>\n",
       "      <td>None</td>\n",
       "      <td>None</td>\n",
       "      <td>None</td>\n",
       "      <td>0</td>\n",
       "      <td>2023-05-28T17:42:45.488386-05:00</td>\n",
       "      <td>2023-05-28T17:42:45.488386-05:00</td>\n",
       "    </tr>\n",
       "    <tr>\n",
       "      <th>4</th>\n",
       "      <td>D29ESP32DE1260A</td>\n",
       "      <td>d29dbmw</td>\n",
       "      <td>TANGARA_260A</td>\n",
       "      <td>3.3267974853515625</td>\n",
       "      <td>-76.62071228027344</td>\n",
       "      <td>None</td>\n",
       "      <td>None</td>\n",
       "      <td>None</td>\n",
       "      <td>None</td>\n",
       "      <td>0</td>\n",
       "      <td>2023-05-28T17:42:45.488386-05:00</td>\n",
       "      <td>2023-05-28T17:42:45.488386-05:00</td>\n",
       "    </tr>\n",
       "    <tr>\n",
       "      <th>5</th>\n",
       "      <td>D29ESP32DE94B1A</td>\n",
       "      <td>d29dbmw</td>\n",
       "      <td>TANGARA_4B1A</td>\n",
       "      <td>3.3267974853515625</td>\n",
       "      <td>-76.62071228027344</td>\n",
       "      <td>None</td>\n",
       "      <td>None</td>\n",
       "      <td>None</td>\n",
       "      <td>None</td>\n",
       "      <td>0</td>\n",
       "      <td>2023-05-28T17:42:45.488386-05:00</td>\n",
       "      <td>2023-05-28T17:42:45.488386-05:00</td>\n",
       "    </tr>\n",
       "  </tbody>\n",
       "</table>\n",
       "</div>"
      ],
      "text/plain": [
       "               MAC  GEOHASH          CODE            LATITUDE   \n",
       "1  D29ESP32DE02BBA  d29e6b4  TANGARA_2BBA  3.3844757080078125  \\\n",
       "2  D29ESP32DE0DD66  d29dbmw  TANGARA_DD66  3.3267974853515625   \n",
       "3  D29ESP32DE0E752  d29dbmw  TANGARA_E752  3.3267974853515625   \n",
       "4  D29ESP32DE1260A  d29dbmw  TANGARA_260A  3.3267974853515625   \n",
       "5  D29ESP32DE94B1A  d29dbmw  TANGARA_4B1A  3.3267974853515625   \n",
       "\n",
       "            LONGITUDE id_barrio id_sector id_areaexp id_areapro  online   \n",
       "1  -76.51634216308594      None      None       None       None       0  \\\n",
       "2  -76.62071228027344      None      None       None       None       0   \n",
       "3  -76.62071228027344      None      None       None       None       0   \n",
       "4  -76.62071228027344      None      None       None       None       0   \n",
       "5  -76.62071228027344      None      None       None       None       0   \n",
       "\n",
       "                            created                           updated  \n",
       "1  2023-05-28T17:42:45.488386-05:00  2023-05-28T17:42:45.488386-05:00  \n",
       "2  2023-05-28T17:42:45.488386-05:00  2023-05-28T17:42:45.488386-05:00  \n",
       "3  2023-05-28T17:42:45.488386-05:00  2023-05-28T17:42:45.488386-05:00  \n",
       "4  2023-05-28T17:42:45.488386-05:00  2023-05-28T17:42:45.488386-05:00  \n",
       "5  2023-05-28T17:42:45.488386-05:00  2023-05-28T17:42:45.488386-05:00  "
      ]
     },
     "execution_count": 5,
     "metadata": {},
     "output_type": "execute_result"
    }
   ],
   "source": [
    "# Data Frame Tangaras\n",
    "tangaras = df_tangaras(start_timestamp, end_timestamp)\n",
    "tangaras.drop_duplicates(subset=['MAC'], inplace=True)\n",
    "tangaras.reset_index(inplace=True, drop=True)\n",
    "tangaras.index += 1\n",
    "print(tangaras.shape)\n",
    "tangaras.head()"
   ]
  },
  {
   "cell_type": "code",
   "execution_count": 6,
   "metadata": {},
   "outputs": [],
   "source": [
    "# Save Tangaras into CSV file\n",
    "tangaras.to_csv('../db/csv/tangara.csv', index_label='id', header=['mac', 'geohash', 'codigo', 'latitud', 'longitud', 'id_barrio', 'id_sector', 'id_areaexp', 'id_areapro', 'online', 'created', 'updated'])"
   ]
  },
  {
   "cell_type": "code",
   "execution_count": null,
   "metadata": {},
   "outputs": [],
   "source": []
  }
 ],
 "metadata": {
  "kernelspec": {
   "display_name": ".venv",
   "language": "python",
   "name": "python3"
  },
  "language_info": {
   "codemirror_mode": {
    "name": "ipython",
    "version": 3
   },
   "file_extension": ".py",
   "mimetype": "text/x-python",
   "name": "python",
   "nbconvert_exporter": "python",
   "pygments_lexer": "ipython3",
   "version": "3.10.6"
  },
  "orig_nbformat": 4
 },
 "nbformat": 4,
 "nbformat_minor": 2
}
